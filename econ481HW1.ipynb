{
 "cells": [
  {
   "cell_type": "raw",
   "id": "9f368cd0-d8ba-48b2-82d8-eb9fc87ee1ac",
   "metadata": {},
   "source": [
    "def github() -> str:\n",
    "    \"\"\"\n",
    "    Some docstrings.\n",
    "    \"\"\"\n",
    "\n",
    "    return \"https://github.com/nstfchloe/econ-481/blob/main/econ481HW1.ipynb""
   ]
  },
  {
   "cell_type": "markdown",
   "id": "b15ccbe0-1f85-42bf-b579-d9d42ef5e7b3",
   "metadata": {},
   "source": [
    "# Exercise 1"
   ]
  },
  {
   "cell_type": "code",
   "execution_count": 16,
   "id": "91594556-6fa3-4806-acda-a068526d4646",
   "metadata": {},
   "outputs": [],
   "source": [
    "import numpy\n",
    "import pandas\n",
    "import scipy\n",
    "import matplotlib\n",
    "import seaborn"
   ]
  },
  {
   "cell_type": "markdown",
   "id": "eab50481-5e3a-4e49-a1f1-f6c4dcc02a3c",
   "metadata": {},
   "source": [
    "# Exercise 2"
   ]
  },
  {
   "cell_type": "code",
   "execution_count": 17,
   "id": "f8fb67c3-28c4-410d-8b3e-5bfb615b6fc0",
   "metadata": {},
   "outputs": [],
   "source": [
    "def evens_and_odds(n: int) -> dict:\n",
    "    evens_sum = 0\n",
    "    odds_sum = 0\n",
    "\n",
    "    for i in range(n):\n",
    "        if i % 2 == 0:\n",
    "            evens_sum += i\n",
    "        else:\n",
    "            odds_sum += i\n",
    "            \n",
    "    return {'evens': evens_sum, 'odds': odds_sum}\n"
   ]
  },
  {
   "cell_type": "markdown",
   "id": "a2f3fdb7-3834-4fe7-a8cd-a6d3add28d5f",
   "metadata": {},
   "source": [
    "# Exercise 3"
   ]
  },
  {
   "cell_type": "code",
   "execution_count": 18,
   "id": "7efd0507-cc23-44c2-9e28-2168a6ed6623",
   "metadata": {},
   "outputs": [],
   "source": [
    "from typing import Union\n",
    "from datetime import datetime\n",
    "\n",
    "def time_diff(date_1: str, date_2: str, out: str = 'float') -> Union[str, float]:\n",
    "    date_1_obj = datetime.strptime(date_1, '%Y-%m-%d')\n",
    "    date_2_obj = datetime.strptime(date_2, '%Y-%m-%d')\n",
    "\n",
    "    time_difference = abs((date_1_obj - date_2_obj).days)\n",
    "\n",
    "    if out == 'float':\n",
    "        return time_difference\n",
    "    elif out == 'string':\n",
    "        return f\"There are {time_difference} days between the two dates\"\n"
   ]
  },
  {
   "cell_type": "markdown",
   "id": "5751bcde-bf31-443e-82b1-d07b25407861",
   "metadata": {},
   "source": [
    "# Exercise 4"
   ]
  },
  {
   "cell_type": "code",
   "execution_count": 19,
   "id": "782106f5-ff8a-4f2d-a3f8-76ff936bfcb7",
   "metadata": {},
   "outputs": [],
   "source": [
    "def reverse(in_list: list) -> list:\n",
    "    reversed_list = []\n",
    "    for i in range(len(in_list) - 1, -1, -1):\n",
    "        reversed_list.append(in_list[i])\n",
    "    return reversed_list\n"
   ]
  },
  {
   "cell_type": "markdown",
   "id": "26005822-fc6c-4728-ae10-780312f1a0eb",
   "metadata": {},
   "source": [
    "# Exercise 5"
   ]
  },
  {
   "cell_type": "code",
   "execution_count": 20,
   "id": "7da5fd95-6060-40b3-9b0f-4de57664b701",
   "metadata": {},
   "outputs": [],
   "source": [
    "def prob_k_heads(n: int, k: int) -> float:\n",
    "    def binomial_coefficient(n, k):\n",
    "        if k == 0 or k == n:\n",
    "            return 1\n",
    "        else:\n",
    "            return binomial_coefficient(n-1, k-1) + binomial_coefficient(n-1, k)\n",
    "\n",
    "    p_head = 0.5\n",
    "    probability = binomial_coefficient(n, k) * (p_head ** k) * ((1 - p_head) ** (n - k))\n",
    "    return probability\n"
   ]
  },
  {
   "cell_type": "code",
   "execution_count": null,
   "id": "5eb28b44-9c20-4594-81bd-0214cc484ab8",
   "metadata": {},
   "outputs": [],
   "source": []
  },
  {
   "cell_type": "code",
   "execution_count": null,
   "id": "af82f1c3-117d-45a4-bd04-64b44d3553db",
   "metadata": {},
   "outputs": [],
   "source": []
  }
 ],
 "metadata": {
  "kernelspec": {
   "display_name": "Python 3 (ipykernel)",
   "language": "python",
   "name": "python3"
  },
  "language_info": {
   "codemirror_mode": {
    "name": "ipython",
    "version": 3
   },
   "file_extension": ".py",
   "mimetype": "text/x-python",
   "name": "python",
   "nbconvert_exporter": "python",
   "pygments_lexer": "ipython3",
   "version": "3.10.13"
  }
 },
 "nbformat": 4,
 "nbformat_minor": 5
}
